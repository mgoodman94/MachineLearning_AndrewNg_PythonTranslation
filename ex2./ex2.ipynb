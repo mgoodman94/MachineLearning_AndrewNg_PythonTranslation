{
 "cells": [
  {
   "cell_type": "code",
   "execution_count": 242,
   "metadata": {},
   "outputs": [],
   "source": [
    "import numpy as np\n",
    "import matplotlib.pyplot as plt\n",
    "import pandas as pd\n",
    "from scipy.optimize import fmin_bfgs"
   ]
  },
  {
   "cell_type": "code",
   "execution_count": 243,
   "metadata": {},
   "outputs": [],
   "source": [
    "matrix = np.loadtxt(\"ex2data1.txt\", delimiter=\",\")\n",
    "X = matrix[:, :-1]\n",
    "y = matrix[:, -1]"
   ]
  },
  {
   "cell_type": "markdown",
   "metadata": {},
   "source": [
    "## Visualize the data"
   ]
  },
  {
   "cell_type": "code",
   "execution_count": 244,
   "metadata": {},
   "outputs": [
    {
     "data": {
      "image/png": "[encoded data removed]",
      "text/plain": [
       "<Figure size 432x288 with 1 Axes>"
      ]
     },
     "metadata": {
      "needs_background": "light"
     },
     "output_type": "display_data"
    }
   ],
   "source": [
    "ex1 = X[:,0]\n",
    "ex2 = X[:,1]\n",
    "\n",
    "# set labels within a dataframe\n",
    "df = pd.DataFrame(dict(x=ex1, y=ex2, label=y))\n",
    "groups = df.groupby('label')\n",
    "\n",
    "# plot\n",
    "fig, ax = plt.subplots()\n",
    "for name, group in groups:\n",
    "    ax.plot(group.x, group.y, marker='o', linestyle='', ms=5, label=name)\n",
    "\n",
    "# set plot characterisitcs\n",
    "plt.xlabel(\"Exam 1\")\n",
    "plt.ylabel(\"Exam 2\")\n",
    "leg = ax.legend(loc=\"upper right\")\n",
    "\n",
    "# set new legend labels\n",
    "leg.get_texts()[0].set_text(\"Rejected\") \n",
    "leg.get_texts()[1].set_text(\"Accepted\")\n",
    "\n",
    "plt.show()"
   ]
  },
  {
   "cell_type": "markdown",
   "metadata": {},
   "source": [
    "## Logistic Regression Implementation"
   ]
  },
  {
   "cell_type": "code",
   "execution_count": 245,
   "metadata": {},
   "outputs": [],
   "source": [
    "init_theta = np.zeros(X.shape[1] + 1)\n",
    "\n",
    "x_ones = np.ones(len(X)) # create ones column for x\n",
    "X = np.column_stack((x_ones, X)) # merge"
   ]
  },
  {
   "cell_type": "code",
   "execution_count": 246,
   "metadata": {},
   "outputs": [],
   "source": [
    "def sigmoid(z):\n",
    "    g = 1/(1 + np.exp(-z))\n",
    "    \n",
    "    return g  "
   ]
  },
  {
   "cell_type": "markdown",
   "metadata": {},
   "source": [
    "For an unclear reason, the advanced optimization function fmin_bfgs encounters log(0) during an iteration. This results in an error.\n",
    "\n",
    "To avoid this error, we will add an extremely small value to what is being passed in the log() in the cost function.\n",
    "\n",
    "<b>Cost Function</b> = 1/m * sum([-y*log(h) - (1-y)*log(1-h)])"
   ]
  },
  {
   "cell_type": "code",
   "execution_count": 247,
   "metadata": {},
   "outputs": [],
   "source": [
    "def cost_func_logReg(theta, X, y):\n",
    "    epsilon = 1e-5 # prevents log(0)\n",
    "    m = len(X)\n",
    "    J = 0\n",
    "\n",
    "    h = sigmoid(X.dot(theta.transpose())) # mx3 * 3x1 = mx1\n",
    "    mid = -(y).dot(np.log(h + epsilon)) - (1 - y).dot(np.log(1-h + epsilon)) \n",
    "    J = 1/m * mid\n",
    "    \n",
    "    return J\n",
    "\n",
    "\n",
    "def get_gradient(theta, X, y):\n",
    "    grad = np.zeros(init_theta.size)\n",
    "    \n",
    "    h = sigmoid(X.dot(theta.transpose()))\n",
    "    errors = h - y \n",
    "    \n",
    "    grad = (1/m) * (X.transpose().dot(errors))\n",
    "    \n",
    "    return grad"
   ]
  },
  {
   "cell_type": "code",
   "execution_count": 248,
   "metadata": {},
   "outputs": [
    {
     "name": "stdout",
     "output_type": "stream",
     "text": [
      "0.6931271807599427\n"
     ]
    }
   ],
   "source": [
    "J = cost_func_logReg(init_theta, X, y)\n",
    "print(J) # cost should equal 0.693 "
   ]
  },
  {
   "cell_type": "code",
   "execution_count": 249,
   "metadata": {
    "scrolled": true
   },
   "outputs": [
    {
     "name": "stdout",
     "output_type": "stream",
     "text": [
      "Optimization terminated successfully.\n",
      "         Current function value: 0.203483\n",
      "         Iterations: 20\n",
      "         Function evaluations: 135\n",
      "         Gradient evaluations: 27\n"
     ]
    }
   ],
   "source": [
    "# optimization function\n",
    "# pass (cost function, initial theta, gradient function (optional), (X,y), max iterations)\n",
    "theta = fmin_bfgs(cost_func_logReg, init_theta, fprime=get_gradient, args=(X,y), maxiter=400)"
   ]
  },
  {
   "cell_type": "code",
   "execution_count": 250,
   "metadata": {},
   "outputs": [
    {
     "data": {
      "text/plain": [
       "0.20348330280387006"
      ]
     },
     "execution_count": 250,
     "metadata": {},
     "output_type": "execute_result"
    }
   ],
   "source": [
    "# should return 0.203 with optimized theta\n",
    "cost_func_logReg(theta, X, y)"
   ]
  },
  {
   "cell_type": "markdown",
   "metadata": {},
   "source": [
    "## Predict Score"
   ]
  },
  {
   "cell_type": "code",
   "execution_count": 215,
   "metadata": {},
   "outputs": [
    {
     "name": "stdout",
     "output_type": "stream",
     "text": [
      "0.7762906975001563\n"
     ]
    }
   ],
   "source": [
    "test = [1, 45, 85]\n",
    "X = np.vstack([test, X])\n",
    "X\n",
    "prediction = sigmoid(X[0,:].dot(theta.transpose()))\n",
    "print(prediction) # should see a 0.776 probability"
   ]
  },
  {
   "cell_type": "code",
   "execution_count": null,
   "metadata": {},
   "outputs": [],
   "source": []
  }
 ],
 "metadata": {
  "kernelspec": {
   "display_name": "Python 3",
   "language": "python",
   "name": "python3"
  },
  "language_info": {
   "codemirror_mode": {
    "name": "ipython",
    "version": 3
   },
   "file_extension": ".py",
   "mimetype": "text/x-python",
   "name": "python",
   "nbconvert_exporter": "python",
   "pygments_lexer": "ipython3",
   "version": "3.7.4"
  }
 },
 "nbformat": 4,
 "nbformat_minor": 2
}
