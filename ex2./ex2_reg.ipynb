{
 "cells": [
  {
   "cell_type": "code",
   "execution_count": 127,
   "metadata": {},
   "outputs": [],
   "source": [
    "import numpy as np\n",
    "import matplotlib.pyplot as plt\n",
    "import pandas as pd\n",
    "from scipy.optimize import fmin_bfgs"
   ]
  },
  {
   "cell_type": "code",
   "execution_count": 128,
   "metadata": {},
   "outputs": [],
   "source": [
    "matrix = np.loadtxt(\"ex2data2.txt\", delimiter=\",\")\n",
    "X = matrix[:, :-1]\n",
    "y = matrix[:, -1]"
   ]
  },
  {
   "cell_type": "markdown",
   "metadata": {},
   "source": [
    "## Visualize Data"
   ]
  },
  {
   "cell_type": "code",
   "execution_count": 129,
   "metadata": {},
   "outputs": [
    {
     "data": {
      "image/png": "[encoded data removed]",
      "text/plain": [
       "<Figure size 432x288 with 1 Axes>"
      ]
     },
     "metadata": {
      "needs_background": "light"
     },
     "output_type": "display_data"
    }
   ],
   "source": [
    "micro1 = X[:,0]\n",
    "micro2 = X[:,1]\n",
    "\n",
    "# set labels within a dataframe\n",
    "df = pd.DataFrame(dict(x=micro1, y=micro2, label=y))\n",
    "groups = df.groupby('label')\n",
    "\n",
    "# plot\n",
    "fig, ax = plt.subplots()\n",
    "for name, group in groups:\n",
    "    ax.plot(group.x, group.y, marker='o', linestyle='', ms=5, label=name)\n",
    "\n",
    "# set plot characterisitcs\n",
    "plt.xlabel(\"Microchip Test 1\")\n",
    "plt.ylabel(\"Microchip Test 2\")\n",
    "leg = ax.legend(loc=\"upper right\")\n",
    "\n",
    "plt.show()"
   ]
  },
  {
   "cell_type": "markdown",
   "metadata": {},
   "source": [
    "## Implement Regularized Logistic Regression "
   ]
  },
  {
   "cell_type": "markdown",
   "metadata": {},
   "source": [
    "Map features so you get a 28-length vector of:\n",
    "  - x1, x2, x1x2, x1^2, x2^2, x1x2^2, etc..."
   ]
  },
  {
   "cell_type": "code",
   "execution_count": 130,
   "metadata": {},
   "outputs": [],
   "source": [
    "DEGREES = 6\n",
    "\n",
    "def map_features(X1, X2):  \n",
    "\n",
    "    mapped_X = []\n",
    "    for i in range(DEGREES+1):\n",
    "        for j in range(i+1):\n",
    "            new_feature = (X1**(i-j)) * (X2**j)\n",
    "            mapped_X.append(new_feature)\n",
    "    \n",
    "    return mapped_X\n",
    "        "
   ]
  },
  {
   "cell_type": "code",
   "execution_count": 131,
   "metadata": {},
   "outputs": [],
   "source": [
    "mapped_X = map_features(X[:, 0], X[:,1])"
   ]
  },
  {
   "cell_type": "markdown",
   "metadata": {},
   "source": [
    "Create regularized cost function \n",
    "  - 1/m * sum([-ylog(h) - (1-y)log(1-h)]) + (lamda/2m)*sum(theta^2)"
   ]
  },
  {
   "cell_type": "code",
   "execution_count": 132,
   "metadata": {},
   "outputs": [],
   "source": [
    "init_theta = np.zeros(X.shape[1] + 1)\n",
    "\n",
    "x_ones = np.ones(len(X)) # create ones column for x\n",
    "X = np.column_stack((x_ones, X)) # merge"
   ]
  },
  {
   "cell_type": "code",
   "execution_count": 133,
   "metadata": {},
   "outputs": [],
   "source": [
    "def sigmoid(z):\n",
    "    g = 1/(1 + np.exp(-z))\n",
    "    \n",
    "    return g  "
   ]
  },
  {
   "cell_type": "code",
   "execution_count": 149,
   "metadata": {},
   "outputs": [],
   "source": [
    "def cost_func_logReg_regularized(theta, X, y):\n",
    "    epsilon = 1e-5 # prevents log(0)\n",
    "    lam = 1 \n",
    "    m = len(X)\n",
    "    J = 0\n",
    "\n",
    "    h = sigmoid(X.dot(theta.transpose()))\n",
    "    first_term = -(y).dot(np.log(h + epsilon)) - (1 - y).dot(np.log(1-h + epsilon)) \n",
    "    reg_term = (lam/(2*m)) * sum(theta[1:]) # do not regularize theta[0]\n",
    "    J = 1/m * first_term + reg_term\n",
    "    \n",
    "    return J\n",
    "\n",
    "\n",
    "def get_gradient(theta, X, y):\n",
    "    lam = 1\n",
    "    m = len(X)\n",
    "    grad = np.zeros(init_theta.size)\n",
    "    \n",
    "    h = sigmoid(X.dot(theta.transpose()))\n",
    "    errors = h - y\n",
    "    \n",
    "    grad[0] = (1/m) * (X[:, 0].transpose().dot(errors)) \n",
    "    grad[1:] = (1/m) * (X[:, 1:].transpose().dot(errors))+ ((lam/m) * theta[1:])\n",
    "    \n",
    "    return grad\n"
   ]
  },
  {
   "cell_type": "code",
   "execution_count": 150,
   "metadata": {},
   "outputs": [
    {
     "name": "stdout",
     "output_type": "stream",
     "text": [
      "0.6931271807599427\n"
     ]
    }
   ],
   "source": [
    "J = cost_func_logReg_regularized(init_theta, X, y)\n",
    "print(J) # cost should equal 0.693 "
   ]
  },
  {
   "cell_type": "code",
   "execution_count": 151,
   "metadata": {},
   "outputs": [
    {
     "name": "stdout",
     "output_type": "stream",
     "text": [
      "Optimization terminated successfully.\n",
      "         Current function value: 0.688529\n",
      "         Iterations: 12\n",
      "         Function evaluations: 70\n",
      "         Gradient evaluations: 14\n"
     ]
    }
   ],
   "source": [
    "# optimization function\n",
    "# pass (cost function, initial theta, gradient function (optional), (X,y), max iterations)\n",
    "theta = fmin_bfgs(cost_func_logReg_regularized, init_theta,  args=(X,y), maxiter=400)"
   ]
  },
  {
   "cell_type": "code",
   "execution_count": null,
   "metadata": {},
   "outputs": [],
   "source": []
  }
 ],
 "metadata": {
  "kernelspec": {
   "display_name": "Python 3",
   "language": "python",
   "name": "python3"
  },
  "language_info": {
   "codemirror_mode": {
    "name": "ipython",
    "version": 3
   },
   "file_extension": ".py",
   "mimetype": "text/x-python",
   "name": "python",
   "nbconvert_exporter": "python",
   "pygments_lexer": "ipython3",
   "version": "3.7.4"
  }
 },
 "nbformat": 4,
 "nbformat_minor": 2
}
