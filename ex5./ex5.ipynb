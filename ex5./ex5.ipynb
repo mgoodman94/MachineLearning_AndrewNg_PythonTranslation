{
 "cells": [
  {
   "cell_type": "code",
   "execution_count": 50,
   "metadata": {},
   "outputs": [],
   "source": [
    "import numpy as np\n",
    "import matplotlib.pyplot as plt\n",
    "import scipy.io\n",
    "from scipy.optimize import fmin_cg"
   ]
  },
  {
   "cell_type": "markdown",
   "metadata": {},
   "source": [
    "## Load in Data"
   ]
  },
  {
   "cell_type": "code",
   "execution_count": 3,
   "metadata": {},
   "outputs": [],
   "source": [
    "matrix = scipy.io.loadmat(\"ex5data1.mat\")"
   ]
  },
  {
   "cell_type": "code",
   "execution_count": 444,
   "metadata": {},
   "outputs": [
    {
     "data": {
      "text/plain": [
       "dict_keys(['__header__', '__version__', '__globals__', 'X', 'y', 'Xtest', 'ytest', 'Xval', 'yval'])"
      ]
     },
     "execution_count": 444,
     "metadata": {},
     "output_type": "execute_result"
    }
   ],
   "source": [
    "# view headers\n",
    "matrix.keys()"
   ]
  },
  {
   "cell_type": "code",
   "execution_count": 539,
   "metadata": {},
   "outputs": [],
   "source": [
    "X_train = matrix['X'] # 12x1\n",
    "y_train = matrix['y'] # 12x1\n",
    "\n",
    "X_test = matrix['Xtest'] # 21x1\n",
    "y_test = matrix['ytest'] # 21x1\n",
    "\n",
    "Xval = matrix['Xval'] # 21x1\n",
    "yval = matrix['yval'] # 21x1"
   ]
  },
  {
   "cell_type": "markdown",
   "metadata": {},
   "source": [
    "## Visualize Data"
   ]
  },
  {
   "cell_type": "code",
   "execution_count": 499,
   "metadata": {},
   "outputs": [
    {
     "data": {
      "text/plain": [
       "Text(0.5, 0, 'Change in water level')"
      ]
     },
     "execution_count": 499,
     "metadata": {},
     "output_type": "execute_result"
    },
    {
     "data": {
      "image/png": "[encoded data removed]",
      "text/plain": [
       "<Figure size 432x288 with 1 Axes>"
      ]
     },
     "metadata": {
      "needs_background": "light"
     },
     "output_type": "display_data"
    }
   ],
   "source": [
    "plt.scatter(X_train, y_train)\n",
    "plt.ylabel(\"Water flowing out of dam\")\n",
    "plt.xlabel(\"Change in water level\")"
   ]
  },
  {
   "cell_type": "markdown",
   "metadata": {},
   "source": [
    "## Implement Regularized Cost Function"
   ]
  },
  {
   "cell_type": "code",
   "execution_count": 540,
   "metadata": {},
   "outputs": [],
   "source": [
    "lam = 0"
   ]
  },
  {
   "cell_type": "code",
   "execution_count": 541,
   "metadata": {},
   "outputs": [],
   "source": [
    "# add bias term\n",
    "x_ones = np.ones(len(X_train))\n",
    "X_train = np.column_stack((x_ones, X))"
   ]
  },
  {
   "cell_type": "code",
   "execution_count": 542,
   "metadata": {},
   "outputs": [],
   "source": [
    "def linReg_cost(theta, X, y, lam):\n",
    "    m = len(X) # number of samples\n",
    "    \n",
    "    h = X.dot(theta).reshape(-1,1) # predictions\n",
    "    sq_errors = np.square(h-y) \n",
    "    \n",
    "    J_first = 1/(2*m) * sum(sq_errors)      \n",
    "    J_reg = lam/(2*m) * sum(theta[1:]**2) # regularization term    \n",
    "    J = J_first + J_reg # cost\n",
    "    \n",
    "    return J"
   ]
  },
  {
   "cell_type": "code",
   "execution_count": 543,
   "metadata": {},
   "outputs": [],
   "source": [
    "def linReg_grad(theta, X, y, lam):\n",
    "    m = len(X) # number of samples\n",
    "    grad = np.zeros(theta.size).reshape(-1,1)\n",
    "    \n",
    "    h = X.dot(theta).reshape(-1,1) # predictions\n",
    "    errors = h-y\n",
    "\n",
    "    grad[0] = 1/m * (X[:, 0].T.dot(errors))\n",
    "    grad[1:] = 1/m * (X[:, 1:].T.dot(errors)) + (lam/m * theta[1:])\n",
    "    \n",
    "    return grad"
   ]
  },
  {
   "cell_type": "markdown",
   "metadata": {},
   "source": [
    "#### Check cost"
   ]
  },
  {
   "cell_type": "code",
   "execution_count": 544,
   "metadata": {},
   "outputs": [
    {
     "name": "stdout",
     "output_type": "stream",
     "text": [
      "[303.95152555]\n"
     ]
    }
   ],
   "source": [
    "# should get 303.993\n",
    "J = linReg_cost(np.ones(X_train.shape[1]).reshape(-1,1), X_train, y_train, lam)\n",
    "print(J)"
   ]
  },
  {
   "cell_type": "markdown",
   "metadata": {},
   "source": [
    "#### Check gradient "
   ]
  },
  {
   "cell_type": "code",
   "execution_count": 545,
   "metadata": {},
   "outputs": [
    {
     "name": "stdout",
     "output_type": "stream",
     "text": [
      "[[-15.30301567]\n",
      " [598.16741084]]\n"
     ]
    }
   ],
   "source": [
    "'''Gradient should equal:\n",
    "    [-15.30 ; 598.25]\n",
    "'''\n",
    "grad = linReg_grad(np.ones(X_train.shape[1]).reshape(-1,1), X_train, y_train, lam)\n",
    "print(grad)"
   ]
  },
  {
   "cell_type": "markdown",
   "metadata": {},
   "source": [
    "## Train Model"
   ]
  },
  {
   "cell_type": "code",
   "execution_count": 506,
   "metadata": {},
   "outputs": [],
   "source": [
    "def train_linReg(X_train, y_train, lam):\n",
    "    theta_init = np.ones(X_train.shape[1]).reshape(-1,1) # initial theta\n",
    "    \n",
    "    params_opt = fmin_cg(linReg_cost, \n",
    "                     theta_init,\n",
    "                     #fprime = linReg_grad,\n",
    "                     args = (X_train,y_train,lam),\n",
    "                     maxiter=200)\n",
    "    \n",
    "    return params_opt"
   ]
  },
  {
   "cell_type": "code",
   "execution_count": 507,
   "metadata": {},
   "outputs": [
    {
     "name": "stdout",
     "output_type": "stream",
     "text": [
      "Optimization terminated successfully.\n",
      "         Current function value: 22.373906\n",
      "         Iterations: 17\n",
      "         Function evaluations: 112\n",
      "         Gradient evaluations: 28\n"
     ]
    }
   ],
   "source": [
    "# get optimized theta\n",
    "theta = train_linReg(X_train, y_train, lam)"
   ]
  },
  {
   "cell_type": "code",
   "execution_count": 508,
   "metadata": {},
   "outputs": [
    {
     "name": "stdout",
     "output_type": "stream",
     "text": [
      "[13.08790734  0.36777925]\n"
     ]
    }
   ],
   "source": [
    "\"\"\"Opt Theta:\n",
    "    [13.088; 0.368]\n",
    "\"\"\"\n",
    "print(params_opt)"
   ]
  },
  {
   "cell_type": "markdown",
   "metadata": {},
   "source": [
    "## Plot Best Fit Line"
   ]
  },
  {
   "cell_type": "code",
   "execution_count": 509,
   "metadata": {},
   "outputs": [
    {
     "data": {
      "text/plain": [
       "Text(0.5, 1.0, 'Fitting:  y = 13.0879 + 0.3678 * x')"
      ]
     },
     "execution_count": 509,
     "metadata": {},
     "output_type": "execute_result"
    },
    {
     "data": {
      "image/png": "[encoded data removed]",
      "text/plain": [
       "<Figure size 432x288 with 1 Axes>"
      ]
     },
     "metadata": {
      "needs_background": "light"
     },
     "output_type": "display_data"
    }
   ],
   "source": [
    "x_plot = np.linspace(-50, 40, 500)\n",
    "y_plot = params_opt[0] + params_opt[1]*x_plot\n",
    "\n",
    "plt.plot(x_plot, y_plot)\n",
    "\n",
    "plt.scatter(X_train[:, 1:], y_train, color='r')\n",
    "plt.ylabel(\"Water flowing out of dam\")\n",
    "plt.xlabel(\"Change in water level\")\n",
    "plt.title(\"Fitting:  y = %.4f + %.4f * x\" % (params_opt[0], params_opt[1]))"
   ]
  },
  {
   "cell_type": "markdown",
   "metadata": {},
   "source": [
    "## Learning Curve\n",
    "  - This will help us diagnose bias and variance problems"
   ]
  },
  {
   "cell_type": "code",
   "execution_count": 546,
   "metadata": {},
   "outputs": [],
   "source": [
    "def learning_curve(X, y, Xval, yval, lam):\n",
    "    m = len(X) # number of samples\n",
    "    curve_lam = 0\n",
    "    \n",
    "    error_train = np.zeros(m)\n",
    "    error_val = np.zeros(m)\n",
    "    \n",
    "    for i in range(m):\n",
    "        theta = train_linReg(X[:i+1, :], y[:i+1], lam)\n",
    "        \n",
    "        # get train errors\n",
    "        J = linReg_cost(theta, X[:i+1, :], y[:i+1], curve_lam)\n",
    "        error_train[i] = J\n",
    "        \n",
    "        # get validation errors\n",
    "        J = linReg_cost(theta, Xval, yval, curve_lam)\n",
    "        error_val[i] = J\n",
    "        \n",
    "    return error_train, error_val"
   ]
  },
  {
   "cell_type": "code",
   "execution_count": 547,
   "metadata": {},
   "outputs": [],
   "source": [
    "x_ones = np.ones(len(Xval))\n",
    "Xval = np.column_stack((x_ones, Xval))"
   ]
  },
  {
   "cell_type": "code",
   "execution_count": 548,
   "metadata": {},
   "outputs": [
    {
     "name": "stdout",
     "output_type": "stream",
     "text": [
      "Optimization terminated successfully.\n",
      "         Current function value: 0.000000\n",
      "         Iterations: 2\n",
      "         Function evaluations: 16\n",
      "         Gradient evaluations: 4\n",
      "Optimization terminated successfully.\n",
      "         Current function value: 0.000000\n",
      "         Iterations: 3\n",
      "         Function evaluations: 28\n",
      "         Gradient evaluations: 7\n",
      "Optimization terminated successfully.\n",
      "         Current function value: 3.286595\n",
      "         Iterations: 4\n",
      "         Function evaluations: 36\n",
      "         Gradient evaluations: 9\n",
      "Optimization terminated successfully.\n",
      "         Current function value: 2.842678\n",
      "         Iterations: 20\n",
      "         Function evaluations: 128\n",
      "         Gradient evaluations: 32\n",
      "Warning: Desired error not necessarily achieved due to precision loss.\n",
      "         Current function value: 13.154049\n",
      "         Iterations: 4\n",
      "         Function evaluations: 219\n",
      "         Gradient evaluations: 52\n",
      "Optimization terminated successfully.\n",
      "         Current function value: 19.443963\n",
      "         Iterations: 4\n",
      "         Function evaluations: 32\n",
      "         Gradient evaluations: 8\n",
      "Optimization terminated successfully.\n",
      "         Current function value: 20.098522\n",
      "         Iterations: 9\n",
      "         Function evaluations: 72\n",
      "         Gradient evaluations: 18\n",
      "Optimization terminated successfully.\n",
      "         Current function value: 18.172859\n",
      "         Iterations: 8\n",
      "         Function evaluations: 56\n",
      "         Gradient evaluations: 14\n",
      "Optimization terminated successfully.\n",
      "         Current function value: 22.609405\n",
      "         Iterations: 10\n",
      "         Function evaluations: 64\n",
      "         Gradient evaluations: 16\n",
      "Optimization terminated successfully.\n",
      "         Current function value: 23.261462\n",
      "         Iterations: 7\n",
      "         Function evaluations: 56\n",
      "         Gradient evaluations: 14\n",
      "Optimization terminated successfully.\n",
      "         Current function value: 24.317250\n",
      "         Iterations: 7\n",
      "         Function evaluations: 56\n",
      "         Gradient evaluations: 14\n",
      "Optimization terminated successfully.\n",
      "         Current function value: 22.373906\n",
      "         Iterations: 17\n",
      "         Function evaluations: 112\n",
      "         Gradient evaluations: 28\n"
     ]
    }
   ],
   "source": [
    "error_train, error_val = learning_curve(X_train, y_train, Xval, yval, lam)"
   ]
  },
  {
   "cell_type": "code",
   "execution_count": 549,
   "metadata": {},
   "outputs": [
    {
     "data": {
      "text/plain": [
       "Text(0, 0.5, 'Error')"
      ]
     },
     "execution_count": 549,
     "metadata": {},
     "output_type": "execute_result"
    },
    {
     "data": {
      "image/png": "[encoded data removed]",
      "text/plain": [
       "<Figure size 432x288 with 1 Axes>"
      ]
     },
     "metadata": {
      "needs_background": "light"
     },
     "output_type": "display_data"
    }
   ],
   "source": [
    "x_plot = [i for i in range(1,13)]\n",
    "\n",
    "plt.plot(x_plot, error_val, label='Validation Err')\n",
    "plt.plot(x_plot, error_train, label='Train Err')\n",
    "plt.legend(loc=\"upper right\")\n",
    "plt.xlabel(\"# of Samples\")\n",
    "plt.ylabel(\"Error\")"
   ]
  },
  {
   "cell_type": "markdown",
   "metadata": {},
   "source": [
    "## Polynomial Regression"
   ]
  },
  {
   "cell_type": "code",
   "execution_count": 623,
   "metadata": {},
   "outputs": [],
   "source": [
    "def poly_features(X, p):\n",
    "    X_poly = np.zeros((X.size, p))\n",
    "    m = len(X)\n",
    "    \n",
    "    for i in range(m):\n",
    "        for j in range(p):\n",
    "            X_poly[i, j] = X[i]**(j+1)\n",
    "            \n",
    "    return X_poly\n",
    "    "
   ]
  },
  {
   "cell_type": "code",
   "execution_count": 624,
   "metadata": {},
   "outputs": [],
   "source": [
    "# map train, test, and val set to 8-degree polynomial\n",
    "p = 8 \n",
    "\n",
    "X_poly_train = poly_features(X_train[:, 1:], p)\n",
    "X_poly_test = poly_features(X_test, p)\n",
    "X_poly_val = poly_features(Xval[:, 1:], p)"
   ]
  },
  {
   "cell_type": "markdown",
   "metadata": {},
   "source": [
    "#### normalize each"
   ]
  },
  {
   "cell_type": "code",
   "execution_count": 625,
   "metadata": {},
   "outputs": [],
   "source": [
    "def feature_normalize(X):\n",
    "    mu = X.mean(axis=0)\n",
    "    sigma = np.std(X, axis=0)\n",
    "    \n",
    "    X_norm = X - mu    \n",
    "    X_norm = X_norm / sigma   \n",
    "    \n",
    "    return X_norm, mu, sigma"
   ]
  },
  {
   "cell_type": "code",
   "execution_count": 626,
   "metadata": {},
   "outputs": [],
   "source": [
    "# train set\n",
    "X_poly_train, mu, sigma = feature_normalize(X_poly_train)\n",
    "X_poly_train = np.column_stack((np.ones(len(X_poly_train)), X_poly_train))"
   ]
  },
  {
   "cell_type": "code",
   "execution_count": 628,
   "metadata": {},
   "outputs": [],
   "source": [
    "# test set\n",
    "X_poly_test = X_poly_test - mu\n",
    "X_poly_test = X_poly_test/sigma\n",
    "X_poly_test = np.column_stack((np.ones(len(X_poly_test)), X_poly_test))\n",
    "\n",
    "# val set\n",
    "X_poly_val = X_poly_val - mu\n",
    "X_poly_val = X_poly_val/sigma\n",
    "X_poly_val = np.column_stack((np.ones(len(X_poly_val)), X_poly_val))"
   ]
  },
  {
   "cell_type": "markdown",
   "metadata": {},
   "source": [
    "#### Calculate optimum theta and errors"
   ]
  },
  {
   "cell_type": "code",
   "execution_count": 629,
   "metadata": {},
   "outputs": [
    {
     "name": "stdout",
     "output_type": "stream",
     "text": [
      "Warning: Maximum number of iterations has been exceeded.\n",
      "         Current function value: 0.090154\n",
      "         Iterations: 200\n",
      "         Function evaluations: 4268\n",
      "         Gradient evaluations: 388\n"
     ]
    }
   ],
   "source": [
    "theta = train_linReg(X_poly_train, y_train, lam)"
   ]
  },
  {
   "cell_type": "code",
   "execution_count": 641,
   "metadata": {},
   "outputs": [
    {
     "name": "stdout",
     "output_type": "stream",
     "text": [
      "Optimization terminated successfully.\n",
      "         Current function value: 0.000000\n",
      "         Iterations: 1\n",
      "         Function evaluations: 33\n",
      "         Gradient evaluations: 3\n",
      "Optimization terminated successfully.\n",
      "         Current function value: 0.000000\n",
      "         Iterations: 2\n",
      "         Function evaluations: 55\n",
      "         Gradient evaluations: 5\n",
      "Optimization terminated successfully.\n",
      "         Current function value: 0.000000\n",
      "         Iterations: 7\n",
      "         Function evaluations: 187\n",
      "         Gradient evaluations: 17\n",
      "Optimization terminated successfully.\n",
      "         Current function value: 0.000000\n",
      "         Iterations: 75\n",
      "         Function evaluations: 1397\n",
      "         Gradient evaluations: 127\n",
      "Optimization terminated successfully.\n",
      "         Current function value: 0.000000\n",
      "         Iterations: 21\n",
      "         Function evaluations: 473\n",
      "         Gradient evaluations: 43\n",
      "Optimization terminated successfully.\n",
      "         Current function value: 0.000000\n",
      "         Iterations: 109\n",
      "         Function evaluations: 2277\n",
      "         Gradient evaluations: 207\n",
      "Warning: Maximum number of iterations has been exceeded.\n",
      "         Current function value: 0.000009\n",
      "         Iterations: 200\n",
      "         Function evaluations: 3883\n",
      "         Gradient evaluations: 353\n",
      "Warning: Maximum number of iterations has been exceeded.\n",
      "         Current function value: 0.058678\n",
      "         Iterations: 200\n",
      "         Function evaluations: 3894\n",
      "         Gradient evaluations: 354\n",
      "Warning: Maximum number of iterations has been exceeded.\n",
      "         Current function value: 0.017064\n",
      "         Iterations: 200\n",
      "         Function evaluations: 4180\n",
      "         Gradient evaluations: 380\n",
      "Warning: Maximum number of iterations has been exceeded.\n",
      "         Current function value: 0.038086\n",
      "         Iterations: 200\n",
      "         Function evaluations: 4180\n",
      "         Gradient evaluations: 380\n",
      "Warning: Maximum number of iterations has been exceeded.\n",
      "         Current function value: 0.048247\n",
      "         Iterations: 200\n",
      "         Function evaluations: 4312\n",
      "         Gradient evaluations: 392\n",
      "Warning: Maximum number of iterations has been exceeded.\n",
      "         Current function value: 0.090154\n",
      "         Iterations: 200\n",
      "         Function evaluations: 4268\n",
      "         Gradient evaluations: 388\n"
     ]
    }
   ],
   "source": [
    "error_train, error_val = learning_curve(X_poly_train, y_train, X_poly_val, yval, lam)"
   ]
  },
  {
   "cell_type": "markdown",
   "metadata": {},
   "source": [
    "#### Plot learning curve"
   ]
  },
  {
   "cell_type": "code",
   "execution_count": 643,
   "metadata": {},
   "outputs": [
    {
     "data": {
      "text/plain": [
       "Text(0, 0.5, 'Error')"
      ]
     },
     "execution_count": 643,
     "metadata": {},
     "output_type": "execute_result"
    },
    {
     "data": {
      "image/png": "[encoded data removed]",
      "text/plain": [
       "<Figure size 432x288 with 1 Axes>"
      ]
     },
     "metadata": {
      "needs_background": "light"
     },
     "output_type": "display_data"
    }
   ],
   "source": [
    "# learning curve\n",
    "x_plot = [i for i in range(1,13)]\n",
    "\n",
    "plt.plot(x_plot, error_val, label='Validation Err')\n",
    "plt.plot(x_plot, error_train, label='Train Err')\n",
    "plt.legend(loc=\"upper right\")\n",
    "plt.xlabel(\"# of Samples\")\n",
    "plt.ylabel(\"Error\")"
   ]
  },
  {
   "cell_type": "markdown",
   "metadata": {},
   "source": [
    "## Cross Validation Curve"
   ]
  },
  {
   "cell_type": "code",
   "execution_count": 650,
   "metadata": {},
   "outputs": [],
   "source": [
    "def validation_curve(X, y, Xval, yval):\n",
    "    lam_set = [0, 0.001, 0.003, 0.01, 0.03, 0.1, 0.3, 1, 3, 10]\n",
    "    \n",
    "    m = len(X)\n",
    "    error_train = np.zeros(len(lam_set))\n",
    "    error_val = np.zeros(len(lam_set))\n",
    "    \n",
    "    curve_lam = 0\n",
    "    for i in range(len(lam_set)):\n",
    "        lam = lam_set[i]\n",
    "        theta = train_linReg(X, y, lam)\n",
    "        \n",
    "        # train error\n",
    "        J = linReg_cost(theta, X, y, curve_lam)\n",
    "        error_train[i] = J\n",
    "        \n",
    "        # val error\n",
    "        J = linReg_cost(theta, Xval, yval, curve_lam)\n",
    "        error_val[i] = J\n",
    "        \n",
    "    return lam_set, error_train, error_val"
   ]
  },
  {
   "cell_type": "code",
   "execution_count": 651,
   "metadata": {
    "scrolled": true
   },
   "outputs": [
    {
     "name": "stdout",
     "output_type": "stream",
     "text": [
      "Warning: Maximum number of iterations has been exceeded.\n",
      "         Current function value: 0.090154\n",
      "         Iterations: 200\n",
      "         Function evaluations: 4268\n",
      "         Gradient evaluations: 388\n",
      "Warning: Maximum number of iterations has been exceeded.\n",
      "         Current function value: 0.169897\n",
      "         Iterations: 200\n",
      "         Function evaluations: 4136\n",
      "         Gradient evaluations: 376\n",
      "Warning: Maximum number of iterations has been exceeded.\n",
      "         Current function value: 0.244408\n",
      "         Iterations: 200\n",
      "         Function evaluations: 4004\n",
      "         Gradient evaluations: 364\n",
      "Warning: Maximum number of iterations has been exceeded.\n",
      "         Current function value: 0.371283\n",
      "         Iterations: 200\n",
      "         Function evaluations: 4147\n",
      "         Gradient evaluations: 377\n",
      "Optimization terminated successfully.\n",
      "         Current function value: 0.636703\n",
      "         Iterations: 87\n",
      "         Function evaluations: 1870\n",
      "         Gradient evaluations: 170\n",
      "Optimization terminated successfully.\n",
      "         Current function value: 1.360572\n",
      "         Iterations: 90\n",
      "         Function evaluations: 1826\n",
      "         Gradient evaluations: 166\n",
      "Optimization terminated successfully.\n",
      "         Current function value: 2.917649\n",
      "         Iterations: 42\n",
      "         Function evaluations: 825\n",
      "         Gradient evaluations: 75\n",
      "Optimization terminated successfully.\n",
      "         Current function value: 6.830463\n",
      "         Iterations: 30\n",
      "         Function evaluations: 583\n",
      "         Gradient evaluations: 53\n",
      "Optimization terminated successfully.\n",
      "         Current function value: 14.937646\n",
      "         Iterations: 25\n",
      "         Function evaluations: 429\n",
      "         Gradient evaluations: 39\n",
      "Optimization terminated successfully.\n",
      "         Current function value: 31.878154\n",
      "         Iterations: 12\n",
      "         Function evaluations: 242\n",
      "         Gradient evaluations: 22\n"
     ]
    }
   ],
   "source": [
    "lam_set, error_train, error_val = validation_curve(X_poly_train, y_train, X_poly_val, yval)"
   ]
  },
  {
   "cell_type": "code",
   "execution_count": 653,
   "metadata": {},
   "outputs": [
    {
     "data": {
      "text/plain": [
       "Text(0, 0.5, 'Error')"
      ]
     },
     "execution_count": 653,
     "metadata": {},
     "output_type": "execute_result"
    },
    {
     "data": {
      "image/png": "[encoded data removed]",
      "text/plain": [
       "<Figure size 432x288 with 1 Axes>"
      ]
     },
     "metadata": {
      "needs_background": "light"
     },
     "output_type": "display_data"
    }
   ],
   "source": [
    "# learning curve\n",
    "plt.plot(lam_set, error_val, label='Validation Err')\n",
    "plt.plot(lam_set, error_train, label='Train Err')\n",
    "plt.legend(loc=\"upper right\")\n",
    "plt.xlabel(\"Lambda\")\n",
    "plt.ylabel(\"Error\")"
   ]
  }
 ],
 "metadata": {
  "kernelspec": {
   "display_name": "Python 3",
   "language": "python",
   "name": "python3"
  },
  "language_info": {
   "codemirror_mode": {
    "name": "ipython",
    "version": 3
   },
   "file_extension": ".py",
   "mimetype": "text/x-python",
   "name": "python",
   "nbconvert_exporter": "python",
   "pygments_lexer": "ipython3",
   "version": "3.7.4"
  }
 },
 "nbformat": 4,
 "nbformat_minor": 2
}
