{
 "cells": [
  {
   "cell_type": "code",
   "execution_count": 63,
   "metadata": {},
   "outputs": [],
   "source": [
    "import scipy.io\n",
    "import numpy as np"
   ]
  },
  {
   "cell_type": "markdown",
   "metadata": {},
   "source": [
    "# Load data"
   ]
  },
  {
   "cell_type": "code",
   "execution_count": 64,
   "metadata": {},
   "outputs": [],
   "source": [
    "matrix = scipy.io.loadmat(\"ex3data1.mat\")"
   ]
  },
  {
   "cell_type": "code",
   "execution_count": 66,
   "metadata": {},
   "outputs": [],
   "source": [
    "X = matrix['X'] # 5000 x 400\n",
    "y = matrix['y'] # 5000 x 1"
   ]
  },
  {
   "cell_type": "markdown",
   "metadata": {},
   "source": [
    "# Neural Network Implementation"
   ]
  },
  {
   "cell_type": "markdown",
   "metadata": {},
   "source": [
    "  - This is only a preview for what is to come in Week 5\n",
    "\n",
    "  - In week 4, we only make predictions with a pre-trained neural network\n",
    "    - Week 5 has us build one from scratch"
   ]
  },
  {
   "cell_type": "markdown",
   "metadata": {},
   "source": [
    "### Load in weights and set up parameters"
   ]
  },
  {
   "cell_type": "code",
   "execution_count": 67,
   "metadata": {},
   "outputs": [],
   "source": [
    "# set up parameters for NN\n",
    "input_layer_size  = 400  # 20x20 Input Images of Digits\n",
    "hidden_layer_size = 25   # 25 hidden units\n",
    "num_labels = 10          # 10 labels, from 1 to 10"
   ]
  },
  {
   "cell_type": "code",
   "execution_count": 68,
   "metadata": {},
   "outputs": [],
   "source": [
    "# load in pre-trained weights \n",
    "# we train a NN ourselves next week\n",
    "weights = scipy.io.loadmat(\"ex3weights.mat\")"
   ]
  },
  {
   "cell_type": "code",
   "execution_count": 69,
   "metadata": {},
   "outputs": [
    {
     "data": {
      "text/plain": [
       "dict_keys(['__header__', '__version__', '__globals__', 'Theta1', 'Theta2'])"
      ]
     },
     "execution_count": 69,
     "metadata": {},
     "output_type": "execute_result"
    }
   ],
   "source": [
    "# contains data for Theta1 and Theta2\n",
    "weights.keys()"
   ]
  },
  {
   "cell_type": "code",
   "execution_count": 70,
   "metadata": {},
   "outputs": [],
   "source": [
    "theta1 = weights[\"Theta1\"] # 25x401\n",
    "theta2 = weights[\"Theta2\"] # 10x26"
   ]
  },
  {
   "cell_type": "markdown",
   "metadata": {},
   "source": [
    "### Make prediction"
   ]
  },
  {
   "cell_type": "code",
   "execution_count": 71,
   "metadata": {},
   "outputs": [],
   "source": [
    "def sigmoid(z):\n",
    "    g = 1/(1 + np.exp(-z))\n",
    "    \n",
    "    return g "
   ]
  },
  {
   "cell_type": "code",
   "execution_count": 50,
   "metadata": {},
   "outputs": [],
   "source": [
    "def predict_nn(theta1, theta2, X, y):\n",
    "    m = len(X) # num of samples\n",
    "    preds = np.zeros(m) # array for predictions\n",
    "    \n",
    "    x_ones = np.ones(m) # create ones column for x\n",
    "    X = np.column_stack((x_ones, X)) # merge\n",
    "    \n",
    "    # begin forward propagation\n",
    "    # input --> hidden layer\n",
    "    step1 = sigmoid(X.dot(theta1.T)) # 5000x401 * 401x25\n",
    "    step1 = np.column_stack((np.ones(len(step1)), step1)) # add ones column\n",
    "    \n",
    "    # hidden --> output layers\n",
    "    step2 = sigmoid(step1.dot(theta2.T)) # 5000x26 * 26x10\n",
    "\n",
    "    \"\"\"\n",
    "    the given weights have column1 = label 1, column2 = label 2..., and column10 = label 10 \n",
    "    \n",
    "    this creates a problem, because Python will see column10 as index 9\n",
    "       - in order for pred[0] to match y[0], we need to add 1 to the pred value\n",
    "    \"\"\"\n",
    "    pred = np.argmax(step2, axis=1)\n",
    "\n",
    "    count = 0\n",
    "    for i in range(len(pred)): # count number of correct matches\n",
    "        if (pred[i]+1)==y[i]: \n",
    "            count+=1\n",
    "\n",
    "    return ((count)/m)*100, pred"
   ]
  },
  {
   "cell_type": "code",
   "execution_count": 51,
   "metadata": {},
   "outputs": [],
   "source": [
    "acc, pred = predict_nn(theta1, theta2, X, y)"
   ]
  },
  {
   "cell_type": "code",
   "execution_count": 62,
   "metadata": {},
   "outputs": [
    {
     "name": "stdout",
     "output_type": "stream",
     "text": [
      "The accuracy of our NN: 97.52\n"
     ]
    }
   ],
   "source": [
    "print(\"The accuracy of our NN: %.2f\" % acc)\n"
   ]
  },
  {
   "cell_type": "code",
   "execution_count": null,
   "metadata": {},
   "outputs": [],
   "source": []
  }
 ],
 "metadata": {
  "kernelspec": {
   "display_name": "Python 3",
   "language": "python",
   "name": "python3"
  },
  "language_info": {
   "codemirror_mode": {
    "name": "ipython",
    "version": 3
   },
   "file_extension": ".py",
   "mimetype": "text/x-python",
   "name": "python",
   "nbconvert_exporter": "python",
   "pygments_lexer": "ipython3",
   "version": "3.7.4"
  }
 },
 "nbformat": 4,
 "nbformat_minor": 2
}
