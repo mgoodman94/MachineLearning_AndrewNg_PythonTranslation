{
 "cells": [
  {
   "cell_type": "code",
   "execution_count": 161,
   "metadata": {},
   "outputs": [],
   "source": [
    "import numpy as np\n",
    "import matplotlib.pyplot as plt"
   ]
  },
  {
   "cell_type": "markdown",
   "metadata": {},
   "source": [
    "## Prediction with Gradient Descent"
   ]
  },
  {
   "cell_type": "code",
   "execution_count": 162,
   "metadata": {},
   "outputs": [],
   "source": [
    "# load data & separate features and label\n",
    "matrix = np.loadtxt(\"ex1data2.txt\", delimiter=\",\")\n",
    "X = matrix[:, :-1]\n",
    "y = matrix[:, -1]"
   ]
  },
  {
   "cell_type": "code",
   "execution_count": 163,
   "metadata": {},
   "outputs": [],
   "source": [
    "# initialize key variables\n",
    "m = len(X)\n",
    "alpha = 0.1\n",
    "num_iter = 50\n",
    "theta = np.zeros(X.shape[1] + 1)"
   ]
  },
  {
   "cell_type": "code",
   "execution_count": 164,
   "metadata": {},
   "outputs": [],
   "source": [
    "# x_norm = (X - mu)/sigma\n",
    "def feature_normalize(X, m):\n",
    "    mu = np.mean(X, axis=0) # 1x2\n",
    "    sigma = np.std(X, axis=0) # 1x2\n",
    "    \n",
    "    X_norm = (X-mu)/sigma \n",
    "    return X_norm, mu, sigma"
   ]
  },
  {
   "cell_type": "code",
   "execution_count": 165,
   "metadata": {},
   "outputs": [],
   "source": [
    "# normalize features\n",
    "X_norm, mu, sigma = feature_normalize(X, m)"
   ]
  },
  {
   "cell_type": "code",
   "execution_count": 166,
   "metadata": {},
   "outputs": [],
   "source": [
    "# add ones column\n",
    "x_ones = np.ones(m) # create ones column \n",
    "X_norm = np.column_stack((x_ones, X_norm)) # merge"
   ]
  },
  {
   "cell_type": "code",
   "execution_count": 167,
   "metadata": {},
   "outputs": [],
   "source": [
    "# J = 1/2m * sum((h-y)^2)\n",
    "def compute_cost(X, y, theta, m):\n",
    "    J = 0\n",
    "    \n",
    "    h = X.dot(theta.transpose()) # 97x2 * 2x1 = 97x1\n",
    "    errors = np.square(h - y) # 97x1\n",
    "    J = 1/(2*m) * sum(errors) # 1x1\n",
    "    \n",
    "    return J\n",
    "\n",
    "\n",
    "def gradient_descent(X, y, theta, alpha, num_iter, m):\n",
    "    J_history = np.zeros(num_iter) \n",
    "\n",
    "    # update theta, compute cost, repeat\n",
    "    for i in range(num_iter):\n",
    "        \n",
    "        h = X.dot(theta.transpose())\n",
    "        errors = (h - y) \n",
    "        theta_delta = (1/m) * alpha * (X.transpose().dot(errors))  \n",
    "        theta -= theta_delta # adjust theta\n",
    "    \n",
    "        J_history[i] = compute_cost(X, y, theta, m) # store cost for that theta\n",
    "\n",
    "    return J_history"
   ]
  },
  {
   "cell_type": "code",
   "execution_count": 168,
   "metadata": {},
   "outputs": [],
   "source": [
    "J_history = gradient_descent(X_norm, y, theta, alpha, num_iter, m)"
   ]
  },
  {
   "cell_type": "code",
   "execution_count": 169,
   "metadata": {},
   "outputs": [
    {
     "data": {
      "text/plain": [
       "Text(0, 0.5, 'Cost')"
      ]
     },
     "execution_count": 169,
     "metadata": {},
     "output_type": "execute_result"
    },
    {
     "data": {
      "image/png": "[encoded data removed]",
      "text/plain": [
       "<Figure size 432x288 with 1 Axes>"
      ]
     },
     "metadata": {
      "needs_background": "light"
     },
     "output_type": "display_data"
    }
   ],
   "source": [
    "# plot cost vs iterations\n",
    "plt.scatter(range(50), J_history)\n",
    "plt.xlabel(\"Iterations\")\n",
    "plt.ylabel(\"Cost\")"
   ]
  },
  {
   "cell_type": "code",
   "execution_count": 170,
   "metadata": {},
   "outputs": [
    {
     "name": "stdout",
     "output_type": "stream",
     "text": [
      "Estimated price of 1650sqft and 3 bedroom house: $293254.704805\n"
     ]
    }
   ],
   "source": [
    "# predict house price \n",
    "house = [1650, 3]\n",
    "X_pred = np.vstack([house, X]) # new X matrix\n",
    "m_pred = len(X_pred)\n",
    "\n",
    "# normalize first, and then add ones column\n",
    "X_norm_pred, mu_pred, sigma_pred = feature_normalize(X_pred, m_pred)\n",
    "x_ones_pred = np.ones(m_pred) # create ones column for x_norm\n",
    "X_norm_pred = np.column_stack((x_ones_pred, X_norm_pred)) # merge\n",
    "\n",
    "# sample * theta = prediction\n",
    "pred_grad = X_norm_pred[0, :].dot(theta.transpose())\n",
    "print(\"Estimated price of 1650sqft and 3 bedroom house: %s%f\" % (\"$\", pred_grad))"
   ]
  },
  {
   "cell_type": "markdown",
   "metadata": {},
   "source": [
    "## Prediction with Normal Equation"
   ]
  },
  {
   "cell_type": "code",
   "execution_count": 171,
   "metadata": {},
   "outputs": [],
   "source": [
    "\"\"\" \n",
    "Implement with normal equation\n",
    "\n",
    "normal equation = (X_trans * X)**-1 * X_trans * y\n",
    "\"\"\"\n",
    "theta = np.zeros(X.shape[1] + 1) # reintialize theta\n",
    "\n",
    "x_ones = np.ones(m) \n",
    "X = np.column_stack((x_ones, X)) # merge X and ones column"
   ]
  },
  {
   "cell_type": "code",
   "execution_count": 172,
   "metadata": {},
   "outputs": [],
   "source": [
    "# build equation\n",
    "first_part = X.transpose().dot(X) # 3x97 * 97x3 = 3x3\n",
    "first_part = (np.linalg.pinv(first_part)) # pseudo inverse\n",
    "\n",
    "theta = first_part.dot(X.transpose()).dot(y)"
   ]
  },
  {
   "cell_type": "code",
   "execution_count": 173,
   "metadata": {},
   "outputs": [
    {
     "name": "stdout",
     "output_type": "stream",
     "text": [
      "Estimated price of 1650sqft and 3 bedroom house: $293081.464335\n"
     ]
    }
   ],
   "source": [
    "# predict house price\n",
    "house = [1, 1650, 3]\n",
    "X = np.vstack([house, X])\n",
    "\n",
    "pred_normal = X[0, :].dot(theta.transpose())\n",
    "print(\"Estimated price of 1650sqft and 3 bedroom house: %s%f\" % (\"$\", pred_normal))"
   ]
  },
  {
   "cell_type": "code",
   "execution_count": 179,
   "metadata": {},
   "outputs": [
    {
     "name": "stdout",
     "output_type": "stream",
     "text": [
      "With gradient descent: $293254.70\n",
      "With normal equation: $293081.46\n"
     ]
    }
   ],
   "source": [
    "# compare gradient descent to normal equation\n",
    "print(\"With gradient descent: %s%.2f\" % (\"$\", pred_grad))\n",
    "print(\"With normal equation: %s%.2f\" % (\"$\", pred_normal))"
   ]
  },
  {
   "cell_type": "markdown",
   "metadata": {},
   "source": []
  }
 ],
 "metadata": {
  "kernelspec": {
   "display_name": "Python 3",
   "language": "python",
   "name": "python3"
  },
  "language_info": {
   "codemirror_mode": {
    "name": "ipython",
    "version": 3
   },
   "file_extension": ".py",
   "mimetype": "text/x-python",
   "name": "python",
   "nbconvert_exporter": "python",
   "pygments_lexer": "ipython3",
   "version": "3.7.4"
  }
 },
 "nbformat": 4,
 "nbformat_minor": 2
}
